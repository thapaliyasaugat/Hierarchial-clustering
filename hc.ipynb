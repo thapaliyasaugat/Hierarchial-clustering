{
 "cells": [
  {
   "cell_type": "code",
   "execution_count": 1,
   "metadata": {},
   "outputs": [],
   "source": [
    "%matplotlib inline\n",
    "import matplotlib.pyplot as plt\n",
    "import numpy as np\n",
    "import seaborn as sns\n",
    "import scipy as sp\n",
    "from sklearn import datasets\n",
    "from numpy import linalg as LA\n",
    "from sklearn.metrics.pairwise import pairwise_distances\n",
    "import sys"
   ]
  },
  {
   "cell_type": "code",
   "execution_count": 2,
   "metadata": {},
   "outputs": [
    {
     "name": "stdout",
     "output_type": "stream",
     "text": [
      "[[0.34 0.63]\n",
      " [0.22 0.48]\n",
      " [0.37 0.32]\n",
      " [0.46 0.19]\n",
      " [0.18 0.41]\n",
      " [0.45 0.3 ]]\n"
     ]
    }
   ],
   "source": [
    "data = np.array([0.34,0.63,0.22,0.48,0.37,0.32,0.46,0.19,0.18,0.41,0.45,0.30]).reshape(6,2)\n",
    "print(data)\n"
   ]
  },
  {
   "cell_type": "code",
   "execution_count": 3,
   "metadata": {},
   "outputs": [
    {
     "data": {
      "text/plain": [
       "<matplotlib.collections.PathCollection at 0x20079923288>"
      ]
     },
     "execution_count": 3,
     "metadata": {},
     "output_type": "execute_result"
    },
    {
     "data": {
      "image/png": "[encoded data removed]",
      "text/plain": [
       "<Figure size 432x288 with 1 Axes>"
      ]
     },
     "metadata": {
      "needs_background": "light"
     },
     "output_type": "display_data"
    }
   ],
   "source": [
    "fig = plt.figure()\n",
    "fig.suptitle('Scatter Plot for clusters')\n",
    "ax = fig.add_subplot(1,1,1)\n",
    "ax.set_xlabel('X')\n",
    "ax.set_ylabel('Y')\n",
    "ax.scatter(data[:,0],data[:,1])"
   ]
  },
  {
   "cell_type": "code",
   "execution_count": 4,
   "metadata": {},
   "outputs": [],
   "source": [
    "def hierarchical_clustering(data,linkage,no_of_clusters):  \n",
    "    color = ['r','g','b','y','c','m','k','w']\n",
    "    initial_distances = pairwise_distances(data,metric='euclidean')\n",
    "     \n",
    "    np.fill_diagonal(initial_distances,sys.maxsize)\n",
    "    clusters = find_clusters(initial_distances,linkage) \n",
    "    \n",
    "    #plotting the clusters\n",
    "    iteration_number = initial_distances.shape[0] - no_of_clusters\n",
    "    clusters_to_plot = clusters[iteration_number]\n",
    "    arr = np.unique(clusters_to_plot)\n",
    "    \n",
    "    indices_to_plot = []\n",
    "    fig = plt.figure()\n",
    "    fig.suptitle('Scatter Plot for clusters')\n",
    "    ax = fig.add_subplot(1,1,1)\n",
    "    ax.set_xlabel('X')\n",
    "    ax.set_ylabel('Y')\n",
    "    for x in np.nditer(arr):\n",
    "        indices_to_plot.append(np.where(clusters_to_plot==x))\n",
    "    p=0\n",
    "    \n",
    "    print(clusters_to_plot)\n",
    "    for i in range(0,len(indices_to_plot)):\n",
    "        for j in np.nditer(indices_to_plot[i]):\n",
    "               ax.scatter(data[j,0],data[j,1], c= color[p])\n",
    "        p = p + 1\n",
    "        \n",
    "    plt.show()"
   ]
  },
  {
   "cell_type": "code",
   "execution_count": 5,
   "metadata": {},
   "outputs": [],
   "source": [
    "def find_clusters(input,linkage):\n",
    "    clusters = {}\n",
    "    row_index = -1\n",
    "    col_index = -1\n",
    "    array = []\n",
    "    \n",
    "    \n",
    "    for n in range(input.shape[0]):\n",
    "        array.append(n)\n",
    "       \n",
    "    clusters[0] = array.copy()\n",
    "\n",
    "    #finding minimum value from the distance matrix\n",
    "    \n",
    "    for k in range(1, input.shape[0]):\n",
    "        min_val = sys.maxsize\n",
    "        \n",
    "        for i in range(0, input.shape[0]):\n",
    "            for j in range(0, input.shape[1]):\n",
    "                if(input[i][j]<=min_val):\n",
    "                    min_val = input[i][j]\n",
    "                    row_index = i\n",
    "                    col_index = j\n",
    "                    \n",
    "        \n",
    "        #updating the matrix by calculating the new distances from the cluster to all points\n",
    "        \n",
    "        #for Single Linkage\n",
    "        if(linkage == \"single\" or linkage ==\"Single\"):\n",
    "            for i in range(0,input.shape[0]):\n",
    "                if(i != col_index):\n",
    "                    #we calculate the distance of every data point from newly formed cluster and update the matrix.\n",
    "                    temp = min(input[col_index][i],input[row_index][i])\n",
    "                    #we update the matrix symmetrically as our distance matrix should always be symmetric\n",
    "                    input[col_index][i] = temp\n",
    "                    input[i][col_index] = temp\n",
    "\n",
    "                   \n",
    "        #set the rows and columns for the cluster with higher index i.e. the row index to infinity\n",
    "        \n",
    "        for i in range (0,input.shape[0]):\n",
    "            input[row_index][i] = sys.maxsize\n",
    "            input[i][row_index] = sys.maxsize\n",
    "     \n",
    "        #if k=0,then all datapoints are clusters\n",
    "       \n",
    "        minimum = min(row_index,col_index)\n",
    "        maximum = max(row_index,col_index)\n",
    "        for n in range(len(array)):\n",
    "            if(array[n]==maximum):\n",
    "                array[n] = minimum\n",
    "        clusters[k] = array.copy()\n",
    "        \n",
    "    return clusters"
   ]
  },
  {
   "cell_type": "code",
   "execution_count": 6,
   "metadata": {},
   "outputs": [
    {
     "name": "stdout",
     "output_type": "stream",
     "text": [
      "[0, 1, 2, 3, 4, 5]\n"
     ]
    },
    {
     "data": {
      "image/png": "[encoded data removed]",
      "text/plain": [
       "<Figure size 432x288 with 1 Axes>"
      ]
     },
     "metadata": {
      "needs_background": "light"
     },
     "output_type": "display_data"
    }
   ],
   "source": [
    "hierarchical_clustering(data,\"single\",6)"
   ]
  },
  {
   "cell_type": "code",
   "execution_count": 7,
   "metadata": {},
   "outputs": [
    {
     "name": "stdout",
     "output_type": "stream",
     "text": [
      "[0, 1, 2, 3, 1, 5]\n"
     ]
    },
    {
     "data": {
      "image/png": "[encoded data removed]",
      "text/plain": [
       "<Figure size 432x288 with 1 Axes>"
      ]
     },
     "metadata": {
      "needs_background": "light"
     },
     "output_type": "display_data"
    }
   ],
   "source": [
    "hierarchical_clustering(data,\"single\",5)"
   ]
  },
  {
   "cell_type": "code",
   "execution_count": 8,
   "metadata": {},
   "outputs": [
    {
     "name": "stdout",
     "output_type": "stream",
     "text": [
      "[0, 1, 2, 3, 1, 2]\n"
     ]
    },
    {
     "data": {
      "image/png": "[encoded data removed]",
      "text/plain": [
       "<Figure size 432x288 with 1 Axes>"
      ]
     },
     "metadata": {
      "needs_background": "light"
     },
     "output_type": "display_data"
    }
   ],
   "source": [
    "hierarchical_clustering(data,\"single\",4)"
   ]
  },
  {
   "cell_type": "code",
   "execution_count": 9,
   "metadata": {},
   "outputs": [
    {
     "name": "stdout",
     "output_type": "stream",
     "text": [
      "[0, 1, 2, 2, 1, 2]\n"
     ]
    },
    {
     "data": {
      "image/png": "[encoded data removed]",
      "text/plain": [
       "<Figure size 432x288 with 1 Axes>"
      ]
     },
     "metadata": {
      "needs_background": "light"
     },
     "output_type": "display_data"
    }
   ],
   "source": [
    "hierarchical_clustering(data,\"single\",3)"
   ]
  },
  {
   "cell_type": "code",
   "execution_count": 10,
   "metadata": {},
   "outputs": [
    {
     "name": "stdout",
     "output_type": "stream",
     "text": [
      "[0, 0, 2, 2, 0, 2]\n"
     ]
    },
    {
     "data": {
      "image/png": "[encoded data removed]",
      "text/plain": [
       "<Figure size 432x288 with 1 Axes>"
      ]
     },
     "metadata": {
      "needs_background": "light"
     },
     "output_type": "display_data"
    }
   ],
   "source": [
    "hierarchical_clustering(data,\"single\",2)"
   ]
  },
  {
   "cell_type": "code",
   "execution_count": 11,
   "metadata": {},
   "outputs": [
    {
     "name": "stdout",
     "output_type": "stream",
     "text": [
      "[0, 0, 0, 0, 0, 0]\n"
     ]
    },
    {
     "data": {
      "image/png": "[encoded data removed]",
      "text/plain": [
       "<Figure size 432x288 with 1 Axes>"
      ]
     },
     "metadata": {
      "needs_background": "light"
     },
     "output_type": "display_data"
    }
   ],
   "source": [
    "hierarchical_clustering(data,\"single\",1)"
   ]
  },
  {
   "cell_type": "code",
   "execution_count": 13,
   "metadata": {},
   "outputs": [
    {
     "data": {
      "image/png": "[encoded data removed]",
      "text/plain": [
       "<Figure size 720x504 with 1 Axes>"
      ]
     },
     "metadata": {
      "needs_background": "light"
     },
     "output_type": "display_data"
    }
   ],
   "source": [
    "# plot dendrogram\n",
    "import scipy.cluster.hierarchy as shc\n",
    "plt.figure(figsize=(10, 7))  \n",
    "plt.title(\"Dendrograms\")  \n",
    "dend = shc.dendrogram(shc.linkage(data, method='ward'))"
   ]
  }
 ],
 "metadata": {
  "kernelspec": {
   "display_name": "Python 3",
   "language": "python",
   "name": "python3"
  },
  "language_info": {
   "codemirror_mode": {
    "name": "ipython",
    "version": 3
   },
   "file_extension": ".py",
   "mimetype": "text/x-python",
   "name": "python",
   "nbconvert_exporter": "python",
   "pygments_lexer": "ipython3",
   "version": "3.7.4"
  }
 },
 "nbformat": 4,
 "nbformat_minor": 2
}
